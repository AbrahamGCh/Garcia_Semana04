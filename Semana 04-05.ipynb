{
 "cells": [
  {
   "cell_type": "markdown",
   "id": "5b467922",
   "metadata": {},
   "source": [
    "# SEMANA 04\n",
    "\n",
    "Abraham Anibal Garcia Chavez"
   ]
  },
  {
   "cell_type": "markdown",
   "id": "d464eb1f-312a-471f-93c1-ba0c7de1956a",
   "metadata": {},
   "source": [
    "Agenda\n",
    "\n",
    "1. Numeros\n",
    "2. Variables\n",
    "3. Manejo de Cadenas\n",
    "4. Ingreso por el teclado\n",
    "5. Operadores"
   ]
  },
  {
   "cell_type": "markdown",
   "id": "cd09fcc7-0c27-48c0-8c20-247c66c0da92",
   "metadata": {},
   "source": [
    "5. Operadores"
   ]
  },
  {
   "cell_type": "code",
   "execution_count": 27,
   "id": "77072ba5-9e7d-4597-aa90-ab45e009c9c7",
   "metadata": {},
   "outputs": [],
   "source": [
    "#5.1 Operadores Aritmeticos\n",
    "#5.2 Se tiene: +, -, *, /, **, %, //"
   ]
  },
  {
   "cell_type": "code",
   "execution_count": 40,
   "id": "fde7aed1",
   "metadata": {},
   "outputs": [
    {
     "name": "stdout",
     "output_type": "stream",
     "text": [
      "13\n",
      "7\n"
     ]
    }
   ],
   "source": [
    "numero1 =10\n",
    "numero2 =3\n",
    "suma = numero1+numero2\n",
    "resta = numero1-numero2\n",
    "print(suma)\n",
    "print(resta)"
   ]
  },
  {
   "cell_type": "code",
   "execution_count": 43,
   "id": "1de7fb37-8f49-4622-9cd3-97e1a2505cfc",
   "metadata": {},
   "outputs": [
    {
     "name": "stdout",
     "output_type": "stream",
     "text": [
      "12\n"
     ]
    }
   ],
   "source": [
    "# 5.2 Operadores de asignación\n",
    "# Se tiene: =, +=, -=, *=, /=, **=\n",
    "numero = 8\n",
    "numero = numero + 4\n",
    "print(numero)"
   ]
  },
  {
   "cell_type": "code",
   "execution_count": 46,
   "id": "abdb751c-20e0-4141-a8d2-af4dee4ed5b0",
   "metadata": {},
   "outputs": [
    {
     "name": "stdout",
     "output_type": "stream",
     "text": [
      "17\n"
     ]
    }
   ],
   "source": [
    "# La operación anterior también se puede # expresar \n",
    "# de la siguiente manera:\n",
    "numero = 10\n",
    "numero += 7\n",
    "print(numero)"
   ]
  },
  {
   "cell_type": "code",
   "execution_count": 49,
   "id": "50b68de2-e419-46e6-bac5-733fe672afdf",
   "metadata": {},
   "outputs": [
    {
     "name": "stdout",
     "output_type": "stream",
     "text": [
      "2401\n"
     ]
    }
   ],
   "source": [
    "# Lo mismo se puede hacer con todos los casos\n",
    "# incluso la potencia\n",
    "# Veamos otro ejemplo:\n",
    "numero = 7\n",
    "numero = numero ** 4\n",
    "print(numero)"
   ]
  },
  {
   "cell_type": "code",
   "execution_count": 52,
   "id": "eb088ebf-4dbb-4b74-902f-737ab6db7b9d",
   "metadata": {},
   "outputs": [
    {
     "name": "stdout",
     "output_type": "stream",
     "text": [
      "10000\n"
     ]
    }
   ],
   "source": [
    "# La operación anterior también se puede \n",
    "# expresar de la siguiente manera:\n",
    "numero = 10\n",
    "numero **= 4\n",
    "print(numero)"
   ]
  },
  {
   "cell_type": "code",
   "execution_count": 56,
   "id": "24fa7e70-803f-446a-93b0-94fac34ff60c",
   "metadata": {},
   "outputs": [],
   "source": [
    "# 5.3 Operadores de comparación\n",
    "# Se tiene: ==, !=, <, >, <=, >="
   ]
  },
  {
   "cell_type": "code",
   "execution_count": 60,
   "id": "5df8985c-d9d6-48d9-91be-a3fbd5b0c82e",
   "metadata": {},
   "outputs": [
    {
     "data": {
      "text/plain": [
       "False"
      ]
     },
     "execution_count": 60,
     "metadata": {},
     "output_type": "execute_result"
    }
   ],
   "source": [
    "# Ejemplo de igualdad ==\n",
    "numero1 = 7\n",
    "numero2 = 10\n",
    "numero1 == numero2"
   ]
  },
  {
   "cell_type": "code",
   "execution_count": 65,
   "id": "da4d31f3-ec3e-4cc0-9519-e2d0f326a7b9",
   "metadata": {},
   "outputs": [
    {
     "data": {
      "text/plain": [
       "True"
      ]
     },
     "execution_count": 65,
     "metadata": {},
     "output_type": "execute_result"
    }
   ],
   "source": [
    "# Ejemplo de igualdad ==\n",
    "numero1 = 7\n",
    "numero2 = 7\n",
    "numero1 == numero2"
   ]
  },
  {
   "cell_type": "code",
   "execution_count": 68,
   "id": "7835655e-467f-4ea0-b996-c0e5f90b93a0",
   "metadata": {},
   "outputs": [
    {
     "data": {
      "text/plain": [
       "True"
      ]
     },
     "execution_count": 68,
     "metadata": {},
     "output_type": "execute_result"
    }
   ],
   "source": [
    "# Con las cadenas funciona igual\n",
    "nombre1 = \"Marcelo\"\n",
    "nombre2 = \"Marcelo\"\n",
    "nombre1 == nombre2"
   ]
  },
  {
   "cell_type": "code",
   "execution_count": 72,
   "id": "e48652af-3b54-4f38-8de3-3bcc227e9803",
   "metadata": {},
   "outputs": [],
   "source": [
    "# 5.4 Operadores lógicos\n",
    "#Se tiene: and, or, not\n",
    "numero1 = 8\n",
    "numero2 = 6\n",
    "numero3 = 10\n",
    "numero4 = 1"
   ]
  },
  {
   "cell_type": "code",
   "execution_count": 75,
   "id": "91dedaf7-7d08-461d-bb62-ec783b4283bf",
   "metadata": {},
   "outputs": [
    {
     "data": {
      "text/plain": [
       "True"
      ]
     },
     "execution_count": 75,
     "metadata": {},
     "output_type": "execute_result"
    }
   ],
   "source": [
    "numero1 > numero2"
   ]
  },
  {
   "cell_type": "code",
   "execution_count": 78,
   "id": "e9f6f28a-cc21-41a6-ab52-95ebb433e885",
   "metadata": {},
   "outputs": [
    {
     "data": {
      "text/plain": [
       "True"
      ]
     },
     "execution_count": 78,
     "metadata": {},
     "output_type": "execute_result"
    }
   ],
   "source": [
    "# El not invierte el resultado\n",
    "not(numero4>numero1)"
   ]
  },
  {
   "cell_type": "code",
   "execution_count": 81,
   "id": "c1dfac96-81d6-4e68-b160-b230e0dc68c7",
   "metadata": {},
   "outputs": [
    {
     "data": {
      "text/plain": [
       "False"
      ]
     },
     "execution_count": 81,
     "metadata": {},
     "output_type": "execute_result"
    }
   ],
   "source": [
    "numero2<numero3 and numero1<numero4"
   ]
  },
  {
   "cell_type": "code",
   "execution_count": 84,
   "id": "01f032ef-11f9-4c49-b85d-0623e48d7f75",
   "metadata": {},
   "outputs": [
    {
     "data": {
      "text/plain": [
       "False"
      ]
     },
     "execution_count": 84,
     "metadata": {},
     "output_type": "execute_result"
    }
   ],
   "source": [
    "# Tambien puedes utilizar parentesis para ordenar tu operación\n",
    "(numero2<numero3 and numero1<numero4) or (numero2>numero1)"
   ]
  },
  {
   "cell_type": "code",
   "execution_count": 87,
   "id": "ac330808-632c-4ea9-b923-b6beef9e3f94",
   "metadata": {},
   "outputs": [],
   "source": [
    "# 5.5 Operadores de Pertenencia\n",
    "#Se tiene: in, not in"
   ]
  },
  {
   "cell_type": "code",
   "execution_count": 90,
   "id": "907a1aed-1d3e-435a-83b9-45cc0d1ca6e0",
   "metadata": {},
   "outputs": [],
   "source": [
    "# Miremos un ejemplo:"
   ]
  },
  {
   "cell_type": "code",
   "execution_count": 94,
   "id": "38344dad-1ca3-440c-8280-d6b53372edaf",
   "metadata": {},
   "outputs": [],
   "source": [
    "aula = [\"Pedro\", \"Santos\", \"Lucio\"]\n",
    "alumno1 = \"Marcelo\"\n",
    "alumno2 = \"Pedro\""
   ]
  },
  {
   "cell_type": "code",
   "execution_count": 97,
   "id": "ada64b08-f8b4-47d2-8359-054e0c953685",
   "metadata": {},
   "outputs": [
    {
     "data": {
      "text/plain": [
       "False"
      ]
     },
     "execution_count": 97,
     "metadata": {},
     "output_type": "execute_result"
    }
   ],
   "source": [
    "# ¿Marcelo está en aula?\n",
    "alumno1 in aula"
   ]
  },
  {
   "cell_type": "code",
   "execution_count": 100,
   "id": "f49da6b4-adf6-4ed5-9ba4-17ef434876b8",
   "metadata": {},
   "outputs": [
    {
     "data": {
      "text/plain": [
       "True"
      ]
     },
     "execution_count": 100,
     "metadata": {},
     "output_type": "execute_result"
    }
   ],
   "source": [
    "# ¿Pedro está en aula?\n",
    "alumno2 in aula"
   ]
  },
  {
   "cell_type": "code",
   "execution_count": 103,
   "id": "b3793b94-a1dc-475a-b895-781bbf2855a8",
   "metadata": {},
   "outputs": [
    {
     "data": {
      "text/plain": [
       "True"
      ]
     },
     "execution_count": 103,
     "metadata": {},
     "output_type": "execute_result"
    }
   ],
   "source": [
    "# ¿Marcelo no está en aula?\n",
    "alumno1 not in aula"
   ]
  },
  {
   "cell_type": "code",
   "execution_count": 106,
   "id": "6ab1000c-6ef5-4c20-ba9d-0d04b2c19d7a",
   "metadata": {},
   "outputs": [],
   "source": [
    "# 5.6 Operadores de identidad\n",
    "# Se tiene: is, is not"
   ]
  },
  {
   "cell_type": "code",
   "execution_count": 110,
   "id": "220cf9b8-481c-4ec7-a21d-98b6f88e9e65",
   "metadata": {},
   "outputs": [],
   "source": [
    "aula1 = [\"Pedro\", \"Santos\", \"Lucio\"]\n",
    "aula2 = [\"Pedro\", \"Santos\", \"Lucio\"]\n",
    "# A continuación vamos a indicar que aula3 va a\n",
    "# compartir el mismo objeto que aula1\n",
    "aula3 = aula1"
   ]
  },
  {
   "cell_type": "code",
   "execution_count": 113,
   "id": "0ea293c6-bbff-4106-9f62-499ebb88f8fa",
   "metadata": {},
   "outputs": [
    {
     "data": {
      "text/plain": [
       "True"
      ]
     },
     "execution_count": 113,
     "metadata": {},
     "output_type": "execute_result"
    }
   ],
   "source": [
    "# ¿aula3 comparte el mismo objeto que aula1 ?\n",
    "aula3 is aula1"
   ]
  },
  {
   "cell_type": "code",
   "execution_count": 116,
   "id": "defb7496-a222-4f0e-8830-9496dfe54145",
   "metadata": {},
   "outputs": [
    {
     "data": {
      "text/plain": [
       "False"
      ]
     },
     "execution_count": 116,
     "metadata": {},
     "output_type": "execute_result"
    }
   ],
   "source": [
    "# ¿ aula3 comparte el mismo objeto que aula2 ?\n",
    "aula3 is aula2"
   ]
  },
  {
   "cell_type": "code",
   "execution_count": 119,
   "id": "fd15d848-1a5b-4cc2-9c3c-db4d2a83a48b",
   "metadata": {},
   "outputs": [
    {
     "data": {
      "text/plain": [
       "False"
      ]
     },
     "execution_count": 119,
     "metadata": {},
     "output_type": "execute_result"
    }
   ],
   "source": [
    "# ¿ aula2 comparte el mismo objeto que aula1 ?\n",
    "aula2 is aula1"
   ]
  },
  {
   "cell_type": "code",
   "execution_count": 122,
   "id": "510df40a-20b6-4e70-9efe-caff4ed9b8f7",
   "metadata": {},
   "outputs": [],
   "source": [
    "aula1.append(\"Piero\")"
   ]
  },
  {
   "cell_type": "code",
   "execution_count": 125,
   "id": "56aa7ce4-f386-48aa-96be-a5bbb5d99741",
   "metadata": {},
   "outputs": [
    {
     "name": "stdout",
     "output_type": "stream",
     "text": [
      "['Pedro', 'Santos', 'Lucio', 'Piero']\n"
     ]
    }
   ],
   "source": [
    "# Al imprimir los elementos de la lista aula1 se observa\n",
    "print(aula1)"
   ]
  },
  {
   "cell_type": "code",
   "execution_count": 128,
   "id": "f1982a04-9c68-46a3-a81c-f57cc81d66e2",
   "metadata": {},
   "outputs": [
    {
     "name": "stdout",
     "output_type": "stream",
     "text": [
      "['Pedro', 'Santos', 'Lucio', 'Piero']\n"
     ]
    }
   ],
   "source": [
    "# Al imprimir los elementos de la lista aula3 se observa\n",
    "print(aula3)"
   ]
  },
  {
   "cell_type": "code",
   "execution_count": 131,
   "id": "c05dd8e1-3280-4b23-887c-1159b371d873",
   "metadata": {},
   "outputs": [
    {
     "name": "stdout",
     "output_type": "stream",
     "text": [
      "['Pedro', 'Santos', 'Lucio']\n"
     ]
    }
   ],
   "source": [
    "# Al imprimir los elementos de la lista aula2 se observa\n",
    "print(aula2)"
   ]
  },
  {
   "cell_type": "code",
   "execution_count": 133,
   "id": "aa984ee6-1d93-472b-bff6-cc305c003277",
   "metadata": {},
   "outputs": [],
   "source": [
    "aula1.append(\"Roberto\")"
   ]
  },
  {
   "cell_type": "code",
   "execution_count": 135,
   "id": "423703e3-fd01-4c6a-aaae-ee40c8edf1e9",
   "metadata": {},
   "outputs": [
    {
     "name": "stdout",
     "output_type": "stream",
     "text": [
      "['Pedro', 'Santos', 'Lucio', 'Piero', 'Roberto']\n",
      "['Pedro', 'Santos', 'Lucio', 'Piero', 'Roberto']\n",
      "['Pedro', 'Santos', 'Lucio']\n"
     ]
    }
   ],
   "source": [
    "print(aula1)\n",
    "print(aula3)\n",
    "print(aula2)"
   ]
  },
  {
   "cell_type": "code",
   "execution_count": null,
   "id": "d7927c18-2fb2-4d01-9eea-762a74fd8e12",
   "metadata": {},
   "outputs": [],
   "source": []
  }
 ],
 "metadata": {
  "kernelspec": {
   "display_name": "anaconda-panel-2023.05-py310",
   "language": "python",
   "name": "conda-env-anaconda-panel-2023.05-py310-py"
  },
  "language_info": {
   "codemirror_mode": {
    "name": "ipython",
    "version": 3
   },
   "file_extension": ".py",
   "mimetype": "text/x-python",
   "name": "python",
   "nbconvert_exporter": "python",
   "pygments_lexer": "ipython3",
   "version": "3.11.5"
  }
 },
 "nbformat": 4,
 "nbformat_minor": 5
}

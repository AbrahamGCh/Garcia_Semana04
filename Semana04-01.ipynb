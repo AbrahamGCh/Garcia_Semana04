{
 "cells": [
  {
   "cell_type": "markdown",
   "id": "7368c55d-36ff-40ca-a930-4d263ecf0028",
   "metadata": {},
   "source": [
    "# SEMANA 04\n",
    "Abraham Anibal Garcia Chavez"
   ]
  },
  {
   "cell_type": "markdown",
   "id": "90ff35a3-d578-4822-bc7f-9888f449b5b5",
   "metadata": {},
   "source": [
    "Agenda\n",
    "1. Numeros\n",
    "2. Variables\n",
    "3. Manejo de Cadenas\n",
    "4. Ingreso por el teclado\n",
    "5. Operadores"
   ]
  },
  {
   "cell_type": "markdown",
   "id": "6b75b191-cec4-4241-890d-13b61017a505",
   "metadata": {},
   "source": [
    "1. Numeros"
   ]
  },
  {
   "cell_type": "code",
   "execution_count": 25,
   "id": "1433c5f3-15ca-4962-aeea-a476b191c9a0",
   "metadata": {},
   "outputs": [
    {
     "data": {
      "text/plain": [
       "16"
      ]
     },
     "execution_count": 25,
     "metadata": {},
     "output_type": "execute_result"
    }
   ],
   "source": [
    "9+7"
   ]
  },
  {
   "cell_type": "code",
   "execution_count": 27,
   "id": "972a9bbb-f025-4579-a1c1-598d3ee83474",
   "metadata": {},
   "outputs": [
    {
     "data": {
      "text/plain": [
       "15"
      ]
     },
     "execution_count": 27,
     "metadata": {},
     "output_type": "execute_result"
    }
   ],
   "source": [
    "7+8"
   ]
  },
  {
   "cell_type": "code",
   "execution_count": 31,
   "id": "63b29fc2-1a9b-441d-b231-16164cbe7208",
   "metadata": {},
   "outputs": [
    {
     "data": {
      "text/plain": [
       "11"
      ]
     },
     "execution_count": 31,
     "metadata": {},
     "output_type": "execute_result"
    }
   ],
   "source": [
    "36-25"
   ]
  },
  {
   "cell_type": "code",
   "execution_count": 37,
   "id": "faf25fe0-cbbb-47f3-9381-f9d79dc09e21",
   "metadata": {},
   "outputs": [
    {
     "data": {
      "text/plain": [
       "10"
      ]
     },
     "execution_count": 37,
     "metadata": {},
     "output_type": "execute_result"
    }
   ],
   "source": [
    "19-9"
   ]
  },
  {
   "cell_type": "code",
   "execution_count": 39,
   "id": "938e3ef8-8921-4326-8d9b-4e03d9251314",
   "metadata": {},
   "outputs": [
    {
     "data": {
      "text/plain": [
       "75"
      ]
     },
     "execution_count": 39,
     "metadata": {},
     "output_type": "execute_result"
    }
   ],
   "source": [
    "15*5"
   ]
  },
  {
   "cell_type": "code",
   "execution_count": 42,
   "id": "b74afaa7-f7ae-42f3-ae1a-53c6861ba64b",
   "metadata": {},
   "outputs": [
    {
     "data": {
      "text/plain": [
       "280"
      ]
     },
     "execution_count": 42,
     "metadata": {},
     "output_type": "execute_result"
    }
   ],
   "source": [
    "35*8"
   ]
  },
  {
   "cell_type": "code",
   "execution_count": 45,
   "id": "6e80e133-0467-4e71-92cd-1fdc7bbdd087",
   "metadata": {},
   "outputs": [
    {
     "data": {
      "text/plain": [
       "8.0"
      ]
     },
     "execution_count": 45,
     "metadata": {},
     "output_type": "execute_result"
    }
   ],
   "source": [
    "72/9"
   ]
  },
  {
   "cell_type": "code",
   "execution_count": 47,
   "id": "2c43c2eb-f267-485f-acce-a6388b71e95b",
   "metadata": {},
   "outputs": [
    {
     "data": {
      "text/plain": [
       "3.0"
      ]
     },
     "execution_count": 47,
     "metadata": {},
     "output_type": "execute_result"
    }
   ],
   "source": [
    "18/6"
   ]
  },
  {
   "cell_type": "code",
   "execution_count": null,
   "id": "ff8f5be7-a78f-4a09-bae9-404ae50545af",
   "metadata": {},
   "outputs": [],
   "source": []
  }
 ],
 "metadata": {
  "kernelspec": {
   "display_name": "anaconda-panel-2023.05-py310",
   "language": "python",
   "name": "conda-env-anaconda-panel-2023.05-py310-py"
  },
  "language_info": {
   "codemirror_mode": {
    "name": "ipython",
    "version": 3
   },
   "file_extension": ".py",
   "mimetype": "text/x-python",
   "name": "python",
   "nbconvert_exporter": "python",
   "pygments_lexer": "ipython3",
   "version": "3.11.5"
  }
 },
 "nbformat": 4,
 "nbformat_minor": 5
}

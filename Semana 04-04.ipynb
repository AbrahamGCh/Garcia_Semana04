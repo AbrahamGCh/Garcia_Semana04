{
 "cells": [
  {
   "cell_type": "markdown",
   "id": "910378ea-6a41-4454-aaf0-47c9683f4076",
   "metadata": {},
   "source": [
    "# SEMANA 04\n",
    "\n",
    "Abraham Anibal Garcia Chavez"
   ]
  },
  {
   "cell_type": "markdown",
   "id": "4af2549e-8f96-4049-a9a1-fc62431c7ad3",
   "metadata": {},
   "source": [
    "Agenda\n",
    "\n",
    "1. Numeros\n",
    "2. Variables\n",
    "3. Manejo de Cadenas\n",
    "4. Ingreso por el teclado\n",
    "5. Operadores"
   ]
  },
  {
   "cell_type": "markdown",
   "id": "b69aa6c0-2f80-4b5b-8a5a-ca7bd2896cdd",
   "metadata": {},
   "source": [
    "4. Ingreso por el teclado"
   ]
  },
  {
   "cell_type": "code",
   "execution_count": 6,
   "id": "c56eb7de",
   "metadata": {},
   "outputs": [
    {
     "name": "stdout",
     "output_type": "stream",
     "text": [
      "¿Cual es tu nombre?\n"
     ]
    },
    {
     "name": "stdin",
     "output_type": "stream",
     "text": [
      " Abraham.\n"
     ]
    },
    {
     "name": "stdout",
     "output_type": "stream",
     "text": [
      "Hola Abraham.\n"
     ]
    }
   ],
   "source": [
    "#Función input()\n",
    "print(\"¿Cual es tu nombre?\")\n",
    "nombre = input()\n",
    "print(\"Hola \" + nombre)"
   ]
  },
  {
   "cell_type": "code",
   "execution_count": 12,
   "id": "f83a1fa8",
   "metadata": {},
   "outputs": [
    {
     "name": "stdout",
     "output_type": "stream",
     "text": [
      "Numero1: \n"
     ]
    },
    {
     "name": "stdin",
     "output_type": "stream",
     "text": [
      " 18\n"
     ]
    },
    {
     "name": "stdout",
     "output_type": "stream",
     "text": [
      "Numero2: \n"
     ]
    },
    {
     "name": "stdin",
     "output_type": "stream",
     "text": [
      " 19\n"
     ]
    },
    {
     "name": "stdout",
     "output_type": "stream",
     "text": [
      "El resultado es : 37\n"
     ]
    }
   ],
   "source": [
    "#Cuando ingresa un valor por teclado lo hace como cadena\n",
    "print(\"Numero1: \")\n",
    "numero1=input()\n",
    "\n",
    "print(\"Numero2: \")\n",
    "numero2=input()\n",
    "\n",
    "numero3=int(numero1)+ int(numero2)\n",
    "print(f\"El resultado es : {numero3}\")"
   ]
  },
  {
   "cell_type": "code",
   "execution_count": null,
   "id": "8f517bab",
   "metadata": {},
   "outputs": [],
   "source": []
  }
 ],
 "metadata": {
  "kernelspec": {
   "display_name": "anaconda-panel-2023.05-py310",
   "language": "python",
   "name": "conda-env-anaconda-panel-2023.05-py310-py"
  },
  "language_info": {
   "codemirror_mode": {
    "name": "ipython",
    "version": 3
   },
   "file_extension": ".py",
   "mimetype": "text/x-python",
   "name": "python",
   "nbconvert_exporter": "python",
   "pygments_lexer": "ipython3",
   "version": "3.11.5"
  }
 },
 "nbformat": 4,
 "nbformat_minor": 5
}

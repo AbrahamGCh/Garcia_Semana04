{
 "cells": [
  {
   "cell_type": "markdown",
   "id": "e3726274",
   "metadata": {},
   "source": [
    "# SEMANA 04\n",
    "\n",
    "Abraham Anibal Garcia Chavez"
   ]
  },
  {
   "cell_type": "markdown",
   "id": "1f3255a0-f9b9-4769-a19d-3482b4faad12",
   "metadata": {},
   "source": [
    "Agenda\n",
    "\n",
    "1. Numeros\n",
    "2. Variables\n",
    "3. Manejo de Cadenas\n",
    "4. Ingreso por el teclado\n",
    "5. Operadores"
   ]
  },
  {
   "cell_type": "markdown",
   "id": "7c473de8-b488-4b0d-83e9-c0212440b105",
   "metadata": {},
   "source": [
    "3. Manejo de Cadenas"
   ]
  },
  {
   "cell_type": "code",
   "execution_count": 17,
   "id": "9bf15129",
   "metadata": {},
   "outputs": [],
   "source": [
    "cadena = \"Universidad Tecnologica de Lima Sur\""
   ]
  },
  {
   "cell_type": "code",
   "execution_count": 19,
   "id": "58636600",
   "metadata": {},
   "outputs": [
    {
     "data": {
      "text/plain": [
       "'Universidad Tecnologica de Lima Sur'"
      ]
     },
     "execution_count": 19,
     "metadata": {},
     "output_type": "execute_result"
    }
   ],
   "source": [
    "cadena"
   ]
  },
  {
   "cell_type": "code",
   "execution_count": 21,
   "id": "9aa142de",
   "metadata": {},
   "outputs": [],
   "source": [
    "#Universidad Tecnologica de Lima Sur"
   ]
  },
  {
   "cell_type": "code",
   "execution_count": 4,
   "id": "9cf55325",
   "metadata": {},
   "outputs": [],
   "source": [
    "#Universidad Tecnologica de Lima Sur\n",
    "#01234\n",
    "#"
   ]
  },
  {
   "cell_type": "code",
   "execution_count": 23,
   "id": "12fbd39e",
   "metadata": {},
   "outputs": [
    {
     "data": {
      "text/plain": [
       "'r'"
      ]
     },
     "execution_count": 23,
     "metadata": {},
     "output_type": "execute_result"
    }
   ],
   "source": [
    "cadena[5]"
   ]
  },
  {
   "cell_type": "code",
   "execution_count": 25,
   "id": "32708a90",
   "metadata": {},
   "outputs": [
    {
     "data": {
      "text/plain": [
       "'d'"
      ]
     },
     "execution_count": 25,
     "metadata": {},
     "output_type": "execute_result"
    }
   ],
   "source": [
    "cadena[10]"
   ]
  },
  {
   "cell_type": "code",
   "execution_count": 31,
   "id": "62f0be6f",
   "metadata": {},
   "outputs": [
    {
     "data": {
      "text/plain": [
       "' '"
      ]
     },
     "execution_count": 31,
     "metadata": {},
     "output_type": "execute_result"
    }
   ],
   "source": [
    "#TAMBIEN CONSIDERA LOS ESPACIOS EN BLANCO\n",
    "cadena[11]"
   ]
  },
  {
   "cell_type": "code",
   "execution_count": 29,
   "id": "4c8eaac5",
   "metadata": {},
   "outputs": [
    {
     "data": {
      "text/plain": [
       "'a'"
      ]
     },
     "execution_count": 29,
     "metadata": {},
     "output_type": "execute_result"
    }
   ],
   "source": [
    "cadena[-5]"
   ]
  },
  {
   "cell_type": "code",
   "execution_count": 33,
   "id": "e2d707c5",
   "metadata": {},
   "outputs": [
    {
     "data": {
      "text/plain": [
       "'versi'"
      ]
     },
     "execution_count": 33,
     "metadata": {},
     "output_type": "execute_result"
    }
   ],
   "source": [
    "#Para mostrar un subcadena[desde, hasta una antes]\n",
    "#En java era substring()\n",
    "\n",
    "cadena[3:8]"
   ]
  },
  {
   "cell_type": "code",
   "execution_count": 35,
   "id": "1d800ab1",
   "metadata": {},
   "outputs": [
    {
     "data": {
      "text/plain": [
       "35"
      ]
     },
     "execution_count": 35,
     "metadata": {},
     "output_type": "execute_result"
    }
   ],
   "source": [
    "#Para saber el tamaño de una cadena utilizamos len()\n",
    "#incluye espacios en blanco\n",
    "len(cadena)"
   ]
  },
  {
   "cell_type": "code",
   "execution_count": 44,
   "id": "e46c409a",
   "metadata": {},
   "outputs": [
    {
     "data": {
      "text/plain": [
       "'UNIVERSIDAD TECNOLOGICA DE LIMA SUR'"
      ]
     },
     "execution_count": 44,
     "metadata": {},
     "output_type": "execute_result"
    }
   ],
   "source": [
    "#Para mostrar una cadena en mayuscula utilizamos upper()\n",
    "cadena.upper()"
   ]
  },
  {
   "cell_type": "code",
   "execution_count": 46,
   "id": "c24ae447",
   "metadata": {},
   "outputs": [
    {
     "data": {
      "text/plain": [
       "'universidad tecnologica de lima sur'"
      ]
     },
     "execution_count": 46,
     "metadata": {},
     "output_type": "execute_result"
    }
   ],
   "source": [
    "#Para mostrar una cadena en minuscula utilizamos lower()\n",
    "cadena.lower()"
   ]
  },
  {
   "cell_type": "code",
   "execution_count": 13,
   "id": "9f1ac4ef",
   "metadata": {},
   "outputs": [
    {
     "data": {
      "text/plain": [
       "['Universidad', 'Tecnologica', 'de', 'Lima', 'Sur']"
      ]
     },
     "execution_count": 13,
     "metadata": {},
     "output_type": "execute_result"
    }
   ],
   "source": [
    "#Generar una lista a partir de la cadena. split()\n",
    "cadena.split()"
   ]
  },
  {
   "cell_type": "code",
   "execution_count": 14,
   "id": "f46d139f",
   "metadata": {},
   "outputs": [
    {
     "data": {
      "text/plain": [
       "'Lima '"
      ]
     },
     "execution_count": 14,
     "metadata": {},
     "output_type": "execute_result"
    }
   ],
   "source": [
    "cadena[-8:-3]"
   ]
  },
  {
   "cell_type": "code",
   "execution_count": 15,
   "id": "59448e97",
   "metadata": {},
   "outputs": [
    {
     "data": {
      "text/plain": [
       "'Sur'"
      ]
     },
     "execution_count": 15,
     "metadata": {},
     "output_type": "execute_result"
    }
   ],
   "source": [
    "cadena[32:35]"
   ]
  },
  {
   "cell_type": "code",
   "execution_count": 54,
   "id": "a7ae2332",
   "metadata": {},
   "outputs": [
    {
     "name": "stdout",
     "output_type": "stream",
     "text": [
      "Buenas tardes Abraham Garcia\n"
     ]
    }
   ],
   "source": [
    "#forma clasica, concaternar con +\n",
    "nombre = \"Abraham Garcia\"\n",
    "print(\"Buenas tardes \" + nombre)"
   ]
  },
  {
   "cell_type": "code",
   "execution_count": 61,
   "id": "c1ee7c63",
   "metadata": {},
   "outputs": [
    {
     "data": {
      "text/plain": [
       "['Universid', 'd Tecnologic', ' de Lim', ' Sur']"
      ]
     },
     "execution_count": 61,
     "metadata": {},
     "output_type": "execute_result"
    }
   ],
   "source": [
    "#Generar una lista a partir de la cadena. split() excluyendo la letra a\n",
    "cadena.split(\"a\")"
   ]
  },
  {
   "cell_type": "code",
   "execution_count": 74,
   "id": "67a38ccc",
   "metadata": {},
   "outputs": [
    {
     "data": {
      "text/plain": [
       "['Universid', 'd Tecnologic', ' de Lim', ' Sur']"
      ]
     },
     "execution_count": 74,
     "metadata": {},
     "output_type": "execute_result"
    }
   ],
   "source": [
    "#Generar una lista a partir de la cadena. split() excluyendo la letra a\n",
    "cadena.split(\"a\")"
   ]
  },
  {
   "cell_type": "code",
   "execution_count": 65,
   "id": "86798aa9",
   "metadata": {},
   "outputs": [
    {
     "name": "stdout",
     "output_type": "stream",
     "text": [
      "hola Abraham Garcia ya se que tienes 24 años\n"
     ]
    }
   ],
   "source": [
    "#utilizando el .format()\n",
    "nombre = \"Abraham Garcia\"\n",
    "edad = 24\n",
    "print(\"hola {} ya se que tienes {} años\".format(nombre, edad))"
   ]
  },
  {
   "cell_type": "code",
   "execution_count": 67,
   "id": "fc517f20",
   "metadata": {},
   "outputs": [
    {
     "name": "stdout",
     "output_type": "stream",
     "text": [
      "10/3 es 3.3333333333333335\n",
      "10/3 es 3.3333\n"
     ]
    }
   ],
   "source": [
    "#dar fotmato a numeros con muchos decimales\n",
    "resultado = 10/3\n",
    "print(\"10/3 es {}\".format(resultado))\n",
    "print(\"10/3 es {r:1.4f}\".format(r=resultado))"
   ]
  },
  {
   "cell_type": "code",
   "execution_count": 69,
   "id": "e5e69df4",
   "metadata": {},
   "outputs": [
    {
     "name": "stdout",
     "output_type": "stream",
     "text": [
      "Buenso dias Abraham Garcia, ya se que tienes 24 años\n"
     ]
    }
   ],
   "source": [
    "#Dar fomrato con f\n",
    "#la funcion f, esta disponible desde la version 3.6\n",
    "\n",
    "nombre = \"Abraham Garcia\"\n",
    "edad = 24\n",
    "print(f\"Buenso dias {nombre}, ya se que tienes {edad} años\")"
   ]
  },
  {
   "cell_type": "code",
   "execution_count": 76,
   "id": "88994f55",
   "metadata": {},
   "outputs": [
    {
     "name": "stdout",
     "output_type": "stream",
     "text": [
      "10/3 es= 3.3333333333333335\n",
      "10/3 es= 3.33\n"
     ]
    }
   ],
   "source": [
    "#dar fotmato a numeros con muchos decimales con f\n",
    "resultado = 10/3\n",
    "print(f\"10/3 es= {resultado}\")\n",
    "print(f\"10/3 es= {resultado:1.2f}\")"
   ]
  },
  {
   "cell_type": "code",
   "execution_count": null,
   "id": "07efa381",
   "metadata": {},
   "outputs": [],
   "source": []
  }
 ],
 "metadata": {
  "kernelspec": {
   "display_name": "anaconda-panel-2023.05-py310",
   "language": "python",
   "name": "conda-env-anaconda-panel-2023.05-py310-py"
  },
  "language_info": {
   "codemirror_mode": {
    "name": "ipython",
    "version": 3
   },
   "file_extension": ".py",
   "mimetype": "text/x-python",
   "name": "python",
   "nbconvert_exporter": "python",
   "pygments_lexer": "ipython3",
   "version": "3.11.5"
  }
 },
 "nbformat": 4,
 "nbformat_minor": 5
}
